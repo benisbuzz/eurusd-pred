{
 "cells": [
  {
   "cell_type": "code",
   "execution_count": 2,
   "metadata": {},
   "outputs": [
    {
     "name": "stdout",
     "output_type": "stream",
     "text": [
      "Out-of-sample MSE: 2.130758175063508e-08\n",
      "Out-of-sample MAPE: 2606963755.1212783\n",
      "Correlation between y and y^: 0.003006507866609008\n",
      "                      y_true    y_pred\n",
      "DateTime                              \n",
      "2023-01-10 18:47:00 -0.00001 -0.000003\n",
      "2023-01-10 18:48:00  0.00002 -0.000003\n",
      "2023-01-10 18:49:00  0.00000 -0.000003\n",
      "2023-01-10 18:50:00  0.00000 -0.000003\n",
      "2023-01-10 18:51:00  0.00004 -0.000003\n"
     ]
    }
   ],
   "source": [
    "import main"
   ]
  },
  {
   "cell_type": "code",
   "execution_count": 3,
   "metadata": {},
   "outputs": [],
   "source": [
    "data = main.load_eurusd_data(\"histdata_free/\", 2023)"
   ]
  },
  {
   "cell_type": "code",
   "execution_count": null,
   "metadata": {},
   "outputs": [],
   "source": []
  }
 ],
 "metadata": {
  "kernelspec": {
   "display_name": ".venv",
   "language": "python",
   "name": "python3"
  },
  "language_info": {
   "codemirror_mode": {
    "name": "ipython",
    "version": 3
   },
   "file_extension": ".py",
   "mimetype": "text/x-python",
   "name": "python",
   "nbconvert_exporter": "python",
   "pygments_lexer": "ipython3",
   "version": "3.11.9"
  }
 },
 "nbformat": 4,
 "nbformat_minor": 2
}
